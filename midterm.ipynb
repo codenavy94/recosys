{
 "cells": [
  {
   "cell_type": "code",
   "execution_count": 3,
   "metadata": {},
   "outputs": [
    {
     "data": {
      "text/plain": [
       "0.75"
      ]
     },
     "execution_count": 3,
     "metadata": {},
     "output_type": "execute_result"
    }
   ],
   "source": [
    "# average precision\n",
    "\n",
    "total_num = 2\n",
    "\n",
    "(1/total_num) * (1/1 + 2/4)"
   ]
  }
 ],
 "metadata": {
  "interpreter": {
   "hash": "eb98f1078c0bf0908da4d541c97382695dcf7ee9c0c20aad61f626557213d022"
  },
  "kernelspec": {
   "display_name": "Python 3.8.11 64-bit ('workspace': conda)",
   "name": "python3"
  },
  "language_info": {
   "codemirror_mode": {
    "name": "ipython",
    "version": 3
   },
   "file_extension": ".py",
   "mimetype": "text/x-python",
   "name": "python",
   "nbconvert_exporter": "python",
   "pygments_lexer": "ipython3",
   "version": "3.8.11"
  },
  "orig_nbformat": 4
 },
 "nbformat": 4,
 "nbformat_minor": 2
}
